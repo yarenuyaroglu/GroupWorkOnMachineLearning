{
 "cells": [
  {
   "cell_type": "code",
   "execution_count": 2,
   "id": "34242228",
   "metadata": {},
   "outputs": [],
   "source": [
    "import pandas as pd\n",
    "import numpy as np\n",
    "import matplotlib.pyplot as plt\n",
    "import seaborn as sbn\n",
    "from sklearn.model_selection import train_test_split\n",
    "from sklearn.neighbors import KNeighborsClassifier\n",
    "from sklearn import preprocessing\n",
    "from sklearn.impute import SimpleImputer\n",
    "from sklearn.preprocessing import StandardScaler"
   ]
  },
  {
   "cell_type": "code",
   "execution_count": 3,
   "id": "f2c7f561",
   "metadata": {},
   "outputs": [],
   "source": [
    "dataFrame = pd.read_csv(\"alzheimer.csv\")"
   ]
  },
  {
   "cell_type": "code",
   "execution_count": 4,
   "id": "ab873aa2",
   "metadata": {},
   "outputs": [
    {
     "data": {
      "text/html": [
       "<div>\n",
       "<style scoped>\n",
       "    .dataframe tbody tr th:only-of-type {\n",
       "        vertical-align: middle;\n",
       "    }\n",
       "\n",
       "    .dataframe tbody tr th {\n",
       "        vertical-align: top;\n",
       "    }\n",
       "\n",
       "    .dataframe thead th {\n",
       "        text-align: right;\n",
       "    }\n",
       "</style>\n",
       "<table border=\"1\" class=\"dataframe\">\n",
       "  <thead>\n",
       "    <tr style=\"text-align: right;\">\n",
       "      <th></th>\n",
       "      <th>Group</th>\n",
       "      <th>M/F</th>\n",
       "      <th>Age</th>\n",
       "      <th>EDUC</th>\n",
       "      <th>SES</th>\n",
       "      <th>MMSE</th>\n",
       "      <th>CDR</th>\n",
       "      <th>eTIV</th>\n",
       "      <th>nWBV</th>\n",
       "      <th>ASF</th>\n",
       "    </tr>\n",
       "  </thead>\n",
       "  <tbody>\n",
       "    <tr>\n",
       "      <th>0</th>\n",
       "      <td>Nondemented</td>\n",
       "      <td>M</td>\n",
       "      <td>87</td>\n",
       "      <td>14</td>\n",
       "      <td>2.0</td>\n",
       "      <td>27.0</td>\n",
       "      <td>0.0</td>\n",
       "      <td>1987</td>\n",
       "      <td>0.696</td>\n",
       "      <td>0.883</td>\n",
       "    </tr>\n",
       "    <tr>\n",
       "      <th>1</th>\n",
       "      <td>Nondemented</td>\n",
       "      <td>M</td>\n",
       "      <td>88</td>\n",
       "      <td>14</td>\n",
       "      <td>2.0</td>\n",
       "      <td>30.0</td>\n",
       "      <td>0.0</td>\n",
       "      <td>2004</td>\n",
       "      <td>0.681</td>\n",
       "      <td>0.876</td>\n",
       "    </tr>\n",
       "    <tr>\n",
       "      <th>2</th>\n",
       "      <td>Demented</td>\n",
       "      <td>M</td>\n",
       "      <td>75</td>\n",
       "      <td>12</td>\n",
       "      <td>NaN</td>\n",
       "      <td>23.0</td>\n",
       "      <td>0.5</td>\n",
       "      <td>1678</td>\n",
       "      <td>0.736</td>\n",
       "      <td>1.046</td>\n",
       "    </tr>\n",
       "    <tr>\n",
       "      <th>3</th>\n",
       "      <td>Demented</td>\n",
       "      <td>M</td>\n",
       "      <td>76</td>\n",
       "      <td>12</td>\n",
       "      <td>NaN</td>\n",
       "      <td>28.0</td>\n",
       "      <td>0.5</td>\n",
       "      <td>1738</td>\n",
       "      <td>0.713</td>\n",
       "      <td>1.010</td>\n",
       "    </tr>\n",
       "    <tr>\n",
       "      <th>4</th>\n",
       "      <td>Demented</td>\n",
       "      <td>M</td>\n",
       "      <td>80</td>\n",
       "      <td>12</td>\n",
       "      <td>NaN</td>\n",
       "      <td>22.0</td>\n",
       "      <td>0.5</td>\n",
       "      <td>1698</td>\n",
       "      <td>0.701</td>\n",
       "      <td>1.034</td>\n",
       "    </tr>\n",
       "  </tbody>\n",
       "</table>\n",
       "</div>"
      ],
      "text/plain": [
       "         Group M/F  Age  EDUC  SES  MMSE  CDR  eTIV   nWBV    ASF\n",
       "0  Nondemented   M   87    14  2.0  27.0  0.0  1987  0.696  0.883\n",
       "1  Nondemented   M   88    14  2.0  30.0  0.0  2004  0.681  0.876\n",
       "2     Demented   M   75    12  NaN  23.0  0.5  1678  0.736  1.046\n",
       "3     Demented   M   76    12  NaN  28.0  0.5  1738  0.713  1.010\n",
       "4     Demented   M   80    12  NaN  22.0  0.5  1698  0.701  1.034"
      ]
     },
     "execution_count": 4,
     "metadata": {},
     "output_type": "execute_result"
    }
   ],
   "source": [
    "dataFrame.head()"
   ]
  },
  {
   "cell_type": "code",
   "execution_count": 5,
   "id": "10ba21bd",
   "metadata": {},
   "outputs": [
    {
     "data": {
      "text/html": [
       "<div>\n",
       "<style scoped>\n",
       "    .dataframe tbody tr th:only-of-type {\n",
       "        vertical-align: middle;\n",
       "    }\n",
       "\n",
       "    .dataframe tbody tr th {\n",
       "        vertical-align: top;\n",
       "    }\n",
       "\n",
       "    .dataframe thead th {\n",
       "        text-align: right;\n",
       "    }\n",
       "</style>\n",
       "<table border=\"1\" class=\"dataframe\">\n",
       "  <thead>\n",
       "    <tr style=\"text-align: right;\">\n",
       "      <th></th>\n",
       "      <th>Age</th>\n",
       "      <th>EDUC</th>\n",
       "      <th>SES</th>\n",
       "      <th>MMSE</th>\n",
       "      <th>CDR</th>\n",
       "      <th>eTIV</th>\n",
       "      <th>nWBV</th>\n",
       "      <th>ASF</th>\n",
       "    </tr>\n",
       "  </thead>\n",
       "  <tbody>\n",
       "    <tr>\n",
       "      <th>count</th>\n",
       "      <td>373.000000</td>\n",
       "      <td>373.000000</td>\n",
       "      <td>354.000000</td>\n",
       "      <td>371.000000</td>\n",
       "      <td>373.000000</td>\n",
       "      <td>373.000000</td>\n",
       "      <td>373.000000</td>\n",
       "      <td>373.000000</td>\n",
       "    </tr>\n",
       "    <tr>\n",
       "      <th>mean</th>\n",
       "      <td>77.013405</td>\n",
       "      <td>14.597855</td>\n",
       "      <td>2.460452</td>\n",
       "      <td>27.342318</td>\n",
       "      <td>0.290885</td>\n",
       "      <td>1488.128686</td>\n",
       "      <td>0.729568</td>\n",
       "      <td>1.195461</td>\n",
       "    </tr>\n",
       "    <tr>\n",
       "      <th>std</th>\n",
       "      <td>7.640957</td>\n",
       "      <td>2.876339</td>\n",
       "      <td>1.134005</td>\n",
       "      <td>3.683244</td>\n",
       "      <td>0.374557</td>\n",
       "      <td>176.139286</td>\n",
       "      <td>0.037135</td>\n",
       "      <td>0.138092</td>\n",
       "    </tr>\n",
       "    <tr>\n",
       "      <th>min</th>\n",
       "      <td>60.000000</td>\n",
       "      <td>6.000000</td>\n",
       "      <td>1.000000</td>\n",
       "      <td>4.000000</td>\n",
       "      <td>0.000000</td>\n",
       "      <td>1106.000000</td>\n",
       "      <td>0.644000</td>\n",
       "      <td>0.876000</td>\n",
       "    </tr>\n",
       "    <tr>\n",
       "      <th>25%</th>\n",
       "      <td>71.000000</td>\n",
       "      <td>12.000000</td>\n",
       "      <td>2.000000</td>\n",
       "      <td>27.000000</td>\n",
       "      <td>0.000000</td>\n",
       "      <td>1357.000000</td>\n",
       "      <td>0.700000</td>\n",
       "      <td>1.099000</td>\n",
       "    </tr>\n",
       "    <tr>\n",
       "      <th>50%</th>\n",
       "      <td>77.000000</td>\n",
       "      <td>15.000000</td>\n",
       "      <td>2.000000</td>\n",
       "      <td>29.000000</td>\n",
       "      <td>0.000000</td>\n",
       "      <td>1470.000000</td>\n",
       "      <td>0.729000</td>\n",
       "      <td>1.194000</td>\n",
       "    </tr>\n",
       "    <tr>\n",
       "      <th>75%</th>\n",
       "      <td>82.000000</td>\n",
       "      <td>16.000000</td>\n",
       "      <td>3.000000</td>\n",
       "      <td>30.000000</td>\n",
       "      <td>0.500000</td>\n",
       "      <td>1597.000000</td>\n",
       "      <td>0.756000</td>\n",
       "      <td>1.293000</td>\n",
       "    </tr>\n",
       "    <tr>\n",
       "      <th>max</th>\n",
       "      <td>98.000000</td>\n",
       "      <td>23.000000</td>\n",
       "      <td>5.000000</td>\n",
       "      <td>30.000000</td>\n",
       "      <td>2.000000</td>\n",
       "      <td>2004.000000</td>\n",
       "      <td>0.837000</td>\n",
       "      <td>1.587000</td>\n",
       "    </tr>\n",
       "  </tbody>\n",
       "</table>\n",
       "</div>"
      ],
      "text/plain": [
       "              Age        EDUC         SES        MMSE         CDR  \\\n",
       "count  373.000000  373.000000  354.000000  371.000000  373.000000   \n",
       "mean    77.013405   14.597855    2.460452   27.342318    0.290885   \n",
       "std      7.640957    2.876339    1.134005    3.683244    0.374557   \n",
       "min     60.000000    6.000000    1.000000    4.000000    0.000000   \n",
       "25%     71.000000   12.000000    2.000000   27.000000    0.000000   \n",
       "50%     77.000000   15.000000    2.000000   29.000000    0.000000   \n",
       "75%     82.000000   16.000000    3.000000   30.000000    0.500000   \n",
       "max     98.000000   23.000000    5.000000   30.000000    2.000000   \n",
       "\n",
       "              eTIV        nWBV         ASF  \n",
       "count   373.000000  373.000000  373.000000  \n",
       "mean   1488.128686    0.729568    1.195461  \n",
       "std     176.139286    0.037135    0.138092  \n",
       "min    1106.000000    0.644000    0.876000  \n",
       "25%    1357.000000    0.700000    1.099000  \n",
       "50%    1470.000000    0.729000    1.194000  \n",
       "75%    1597.000000    0.756000    1.293000  \n",
       "max    2004.000000    0.837000    1.587000  "
      ]
     },
     "execution_count": 5,
     "metadata": {},
     "output_type": "execute_result"
    }
   ],
   "source": [
    "dataFrame.describe()"
   ]
  },
  {
   "cell_type": "code",
   "execution_count": 6,
   "id": "da8f9688",
   "metadata": {},
   "outputs": [
    {
     "data": {
      "text/plain": [
       "Group     0\n",
       "M/F       0\n",
       "Age       0\n",
       "EDUC      0\n",
       "SES      19\n",
       "MMSE      2\n",
       "CDR       0\n",
       "eTIV      0\n",
       "nWBV      0\n",
       "ASF       0\n",
       "dtype: int64"
      ]
     },
     "execution_count": 6,
     "metadata": {},
     "output_type": "execute_result"
    }
   ],
   "source": [
    "dataFrame.isnull().sum()"
   ]
  },
  {
   "cell_type": "code",
   "execution_count": 7,
   "id": "42c700c6",
   "metadata": {},
   "outputs": [
    {
     "data": {
      "text/plain": [
       "5.093833780160858"
      ]
     },
     "execution_count": 7,
     "metadata": {},
     "output_type": "execute_result"
    }
   ],
   "source": [
    "dataFrame[\"SES\"].isnull().sum() / dataFrame.shape[0] *100"
   ]
  },
  {
   "cell_type": "code",
   "execution_count": 10,
   "id": "09b10c53",
   "metadata": {},
   "outputs": [
    {
     "data": {
      "image/png": "[encoded data removed]",
      "text/plain": [
       "<Figure size 640x480 with 1 Axes>"
      ]
     },
     "metadata": {},
     "output_type": "display_data"
    }
   ],
   "source": [
    "ax = dataFrame[\"SES\"].hist(bins=15, density=True, stacked=True, alpha=0.7)\n",
    "dataFrame[\"SES\"].plot(kind=\"density\")\n",
    "ax.set(xlabel= \"SES\")\n",
    "plt.xlim(0,10)\n",
    "plt.grid()\n",
    "plt.show() # Kısmen homojenik dağılım gösterdiği için null değerlerinin yerine ortalama değer kullanmayı tercih ettik."
   ]
  },
  {
   "cell_type": "code",
   "execution_count": 11,
   "id": "51daf231",
   "metadata": {},
   "outputs": [],
   "source": [
    "#SES verilerinin %5 i null değer"
   ]
  },
  {
   "cell_type": "code",
   "execution_count": 12,
   "id": "75f772a9",
   "metadata": {},
   "outputs": [
    {
     "data": {
      "text/plain": [
       "0.5361930294906166"
      ]
     },
     "execution_count": 12,
     "metadata": {},
     "output_type": "execute_result"
    }
   ],
   "source": [
    "dataFrame[\"MMSE\"].isnull().sum() / dataFrame.shape[0] *100"
   ]
  },
  {
   "cell_type": "code",
   "execution_count": 13,
   "id": "df3e11f6",
   "metadata": {},
   "outputs": [],
   "source": [
    "# MMSE verilerinin %0.5 i null değer"
   ]
  },
  {
   "cell_type": "code",
   "execution_count": 14,
   "id": "57f5556f",
   "metadata": {},
   "outputs": [],
   "source": [
    "#kısmen homojen dağılım gösteren data set olduğu için mean değeri ile doldurulacak"
   ]
  },
  {
   "cell_type": "code",
   "execution_count": 15,
   "id": "0e3c8a9c",
   "metadata": {},
   "outputs": [],
   "source": [
    "imputer = SimpleImputer(missing_values= np.nan, strategy= \"mean\")"
   ]
  },
  {
   "cell_type": "code",
   "execution_count": 16,
   "id": "c923adb4",
   "metadata": {},
   "outputs": [],
   "source": [
    "meanValue = dataFrame.iloc[:,4:6].values"
   ]
  },
  {
   "cell_type": "code",
   "execution_count": 17,
   "id": "84e4ee64",
   "metadata": {},
   "outputs": [],
   "source": [
    "imputer = imputer.fit(meanValue)"
   ]
  },
  {
   "cell_type": "code",
   "execution_count": 18,
   "id": "8ecc32a6",
   "metadata": {},
   "outputs": [],
   "source": [
    "imputer = imputer.fit(meanValue)"
   ]
  },
  {
   "cell_type": "code",
   "execution_count": 19,
   "id": "46650b0d",
   "metadata": {},
   "outputs": [],
   "source": [
    "meanValue = imputer.transform(meanValue)"
   ]
  },
  {
   "cell_type": "code",
   "execution_count": 20,
   "id": "800109d6",
   "metadata": {},
   "outputs": [],
   "source": [
    "dataFrame[\"SES\"] = meanValue[:,0]"
   ]
  },
  {
   "cell_type": "code",
   "execution_count": 21,
   "id": "2682b2ce",
   "metadata": {},
   "outputs": [],
   "source": [
    "dataFrame[\"MMSE\"] = meanValue[:,1]"
   ]
  },
  {
   "cell_type": "code",
   "execution_count": 22,
   "id": "ea7b51a1",
   "metadata": {},
   "outputs": [],
   "source": [
    "teshis = dataFrame.iloc[:,0:1].values"
   ]
  },
  {
   "cell_type": "code",
   "execution_count": 23,
   "id": "eafdde6f",
   "metadata": {},
   "outputs": [
    {
     "data": {
      "text/plain": [
       "array([['Nondemented'],\n",
       "       ['Nondemented'],\n",
       "       ['Demented'],\n",
       "       ['Demented'],\n",
       "       ['Demented'],\n",
       "       ['Nondemented'],\n",
       "       ['Nondemented'],\n",
       "       ['Nondemented'],\n",
       "       ['Nondemented'],\n",
       "       ['Nondemented'],\n",
       "       ['Demented'],\n",
       "       ['Demented'],\n",
       "       ['Demented'],\n",
       "       ['Nondemented'],\n",
       "       ['Nondemented'],\n",
       "       ['Demented'],\n",
       "       ['Demented'],\n",
       "       ['Demented'],\n",
       "       ['Demented'],\n",
       "       ['Nondemented'],\n",
       "       ['Nondemented'],\n",
       "       ['Nondemented'],\n",
       "       ['Nondemented'],\n",
       "       ['Nondemented'],\n",
       "       ['Nondemented'],\n",
       "       ['Demented'],\n",
       "       ['Demented'],\n",
       "       ['Demented'],\n",
       "       ['Demented'],\n",
       "       ['Nondemented'],\n",
       "       ['Nondemented'],\n",
       "       ['Nondemented'],\n",
       "       ['Nondemented'],\n",
       "       ['Converted'],\n",
       "       ['Converted'],\n",
       "       ['Converted'],\n",
       "       ['Converted'],\n",
       "       ['Converted'],\n",
       "       ['Converted'],\n",
       "       ['Demented'],\n",
       "       ['Demented'],\n",
       "       ['Nondemented'],\n",
       "       ['Nondemented'],\n",
       "       ['Demented'],\n",
       "       ['Demented'],\n",
       "       ['Demented'],\n",
       "       ['Demented'],\n",
       "       ['Nondemented'],\n",
       "       ['Nondemented'],\n",
       "       ['Nondemented'],\n",
       "       ['Nondemented'],\n",
       "       ['Demented'],\n",
       "       ['Demented'],\n",
       "       ['Nondemented'],\n",
       "       ['Nondemented'],\n",
       "       ['Nondemented'],\n",
       "       ['Nondemented'],\n",
       "       ['Converted'],\n",
       "       ['Converted'],\n",
       "       ['Converted'],\n",
       "       ['Demented'],\n",
       "       ['Demented'],\n",
       "       ['Nondemented'],\n",
       "       ['Nondemented'],\n",
       "       ['Nondemented'],\n",
       "       ['Nondemented'],\n",
       "       ['Nondemented'],\n",
       "       ['Nondemented'],\n",
       "       ['Nondemented'],\n",
       "       ['Nondemented'],\n",
       "       ['Nondemented'],\n",
       "       ['Nondemented'],\n",
       "       ['Demented'],\n",
       "       ['Demented'],\n",
       "       ['Demented'],\n",
       "       ['Demented'],\n",
       "       ['Demented'],\n",
       "       ['Demented'],\n",
       "       ['Demented'],\n",
       "       ['Demented'],\n",
       "       ['Demented'],\n",
       "       ['Converted'],\n",
       "       ['Converted'],\n",
       "       ['Converted'],\n",
       "       ['Nondemented'],\n",
       "       ['Nondemented'],\n",
       "       ['Demented'],\n",
       "       ['Demented'],\n",
       "       ['Demented'],\n",
       "       ['Demented'],\n",
       "       ['Demented'],\n",
       "       ['Nondemented'],\n",
       "       ['Nondemented'],\n",
       "       ['Demented'],\n",
       "       ['Demented'],\n",
       "       ['Nondemented'],\n",
       "       ['Nondemented'],\n",
       "       ['Demented'],\n",
       "       ['Demented'],\n",
       "       ['Demented'],\n",
       "       ['Demented'],\n",
       "       ['Demented'],\n",
       "       ['Nondemented'],\n",
       "       ['Nondemented'],\n",
       "       ['Nondemented'],\n",
       "       ['Demented'],\n",
       "       ['Demented'],\n",
       "       ['Nondemented'],\n",
       "       ['Nondemented'],\n",
       "       ['Nondemented'],\n",
       "       ['Nondemented'],\n",
       "       ['Nondemented'],\n",
       "       ['Nondemented'],\n",
       "       ['Nondemented'],\n",
       "       ['Converted'],\n",
       "       ['Converted'],\n",
       "       ['Nondemented'],\n",
       "       ['Nondemented'],\n",
       "       ['Nondemented'],\n",
       "       ['Nondemented'],\n",
       "       ['Nondemented'],\n",
       "       ['Nondemented'],\n",
       "       ['Nondemented'],\n",
       "       ['Demented'],\n",
       "       ['Demented'],\n",
       "       ['Demented'],\n",
       "       ['Demented'],\n",
       "       ['Demented'],\n",
       "       ['Nondemented'],\n",
       "       ['Nondemented'],\n",
       "       ['Nondemented'],\n",
       "       ['Nondemented'],\n",
       "       ['Nondemented'],\n",
       "       ['Nondemented'],\n",
       "       ['Demented'],\n",
       "       ['Demented'],\n",
       "       ['Demented'],\n",
       "       ['Demented'],\n",
       "       ['Demented'],\n",
       "       ['Demented'],\n",
       "       ['Demented'],\n",
       "       ['Nondemented'],\n",
       "       ['Nondemented'],\n",
       "       ['Nondemented'],\n",
       "       ['Nondemented'],\n",
       "       ['Nondemented'],\n",
       "       ['Nondemented'],\n",
       "       ['Nondemented'],\n",
       "       ['Nondemented'],\n",
       "       ['Nondemented'],\n",
       "       ['Nondemented'],\n",
       "       ['Nondemented'],\n",
       "       ['Nondemented'],\n",
       "       ['Nondemented'],\n",
       "       ['Demented'],\n",
       "       ['Demented'],\n",
       "       ['Nondemented'],\n",
       "       ['Nondemented'],\n",
       "       ['Nondemented'],\n",
       "       ['Nondemented'],\n",
       "       ['Nondemented'],\n",
       "       ['Demented'],\n",
       "       ['Demented'],\n",
       "       ['Nondemented'],\n",
       "       ['Nondemented'],\n",
       "       ['Nondemented'],\n",
       "       ['Nondemented'],\n",
       "       ['Nondemented'],\n",
       "       ['Nondemented'],\n",
       "       ['Nondemented'],\n",
       "       ['Nondemented'],\n",
       "       ['Demented'],\n",
       "       ['Demented'],\n",
       "       ['Demented'],\n",
       "       ['Demented'],\n",
       "       ['Demented'],\n",
       "       ['Demented'],\n",
       "       ['Demented'],\n",
       "       ['Demented'],\n",
       "       ['Nondemented'],\n",
       "       ['Nondemented'],\n",
       "       ['Nondemented'],\n",
       "       ['Nondemented'],\n",
       "       ['Demented'],\n",
       "       ['Demented'],\n",
       "       ['Demented'],\n",
       "       ['Demented'],\n",
       "       ['Demented'],\n",
       "       ['Demented'],\n",
       "       ['Nondemented'],\n",
       "       ['Nondemented'],\n",
       "       ['Nondemented'],\n",
       "       ['Nondemented'],\n",
       "       ['Nondemented'],\n",
       "       ['Converted'],\n",
       "       ['Converted'],\n",
       "       ['Nondemented'],\n",
       "       ['Nondemented'],\n",
       "       ['Nondemented'],\n",
       "       ['Nondemented'],\n",
       "       ['Nondemented'],\n",
       "       ['Nondemented'],\n",
       "       ['Nondemented'],\n",
       "       ['Nondemented'],\n",
       "       ['Nondemented'],\n",
       "       ['Demented'],\n",
       "       ['Demented'],\n",
       "       ['Demented'],\n",
       "       ['Demented'],\n",
       "       ['Nondemented'],\n",
       "       ['Nondemented'],\n",
       "       ['Nondemented'],\n",
       "       ['Nondemented'],\n",
       "       ['Nondemented'],\n",
       "       ['Nondemented'],\n",
       "       ['Demented'],\n",
       "       ['Demented'],\n",
       "       ['Demented'],\n",
       "       ['Converted'],\n",
       "       ['Converted'],\n",
       "       ['Converted'],\n",
       "       ['Demented'],\n",
       "       ['Demented'],\n",
       "       ['Nondemented'],\n",
       "       ['Nondemented'],\n",
       "       ['Demented'],\n",
       "       ['Demented'],\n",
       "       ['Demented'],\n",
       "       ['Demented'],\n",
       "       ['Nondemented'],\n",
       "       ['Nondemented'],\n",
       "       ['Demented'],\n",
       "       ['Demented'],\n",
       "       ['Demented'],\n",
       "       ['Demented'],\n",
       "       ['Demented'],\n",
       "       ['Demented'],\n",
       "       ['Demented'],\n",
       "       ['Demented'],\n",
       "       ['Demented'],\n",
       "       ['Demented'],\n",
       "       ['Nondemented'],\n",
       "       ['Nondemented'],\n",
       "       ['Nondemented'],\n",
       "       ['Nondemented'],\n",
       "       ['Converted'],\n",
       "       ['Converted'],\n",
       "       ['Nondemented'],\n",
       "       ['Nondemented'],\n",
       "       ['Nondemented'],\n",
       "       ['Demented'],\n",
       "       ['Demented'],\n",
       "       ['Nondemented'],\n",
       "       ['Nondemented'],\n",
       "       ['Nondemented'],\n",
       "       ['Nondemented'],\n",
       "       ['Demented'],\n",
       "       ['Demented'],\n",
       "       ['Nondemented'],\n",
       "       ['Nondemented'],\n",
       "       ['Nondemented'],\n",
       "       ['Converted'],\n",
       "       ['Converted'],\n",
       "       ['Converted'],\n",
       "       ['Converted'],\n",
       "       ['Converted'],\n",
       "       ['Nondemented'],\n",
       "       ['Nondemented'],\n",
       "       ['Nondemented'],\n",
       "       ['Nondemented'],\n",
       "       ['Nondemented'],\n",
       "       ['Converted'],\n",
       "       ['Converted'],\n",
       "       ['Converted'],\n",
       "       ['Converted'],\n",
       "       ['Demented'],\n",
       "       ['Demented'],\n",
       "       ['Nondemented'],\n",
       "       ['Nondemented'],\n",
       "       ['Demented'],\n",
       "       ['Demented'],\n",
       "       ['Nondemented'],\n",
       "       ['Nondemented'],\n",
       "       ['Demented'],\n",
       "       ['Demented'],\n",
       "       ['Demented'],\n",
       "       ['Demented'],\n",
       "       ['Demented'],\n",
       "       ['Nondemented'],\n",
       "       ['Nondemented'],\n",
       "       ['Nondemented'],\n",
       "       ['Nondemented'],\n",
       "       ['Nondemented'],\n",
       "       ['Nondemented'],\n",
       "       ['Nondemented'],\n",
       "       ['Converted'],\n",
       "       ['Converted'],\n",
       "       ['Converted'],\n",
       "       ['Converted'],\n",
       "       ['Demented'],\n",
       "       ['Demented'],\n",
       "       ['Nondemented'],\n",
       "       ['Nondemented'],\n",
       "       ['Nondemented'],\n",
       "       ['Nondemented'],\n",
       "       ['Nondemented'],\n",
       "       ['Nondemented'],\n",
       "       ['Demented'],\n",
       "       ['Demented'],\n",
       "       ['Nondemented'],\n",
       "       ['Nondemented'],\n",
       "       ['Nondemented'],\n",
       "       ['Nondemented'],\n",
       "       ['Nondemented'],\n",
       "       ['Nondemented'],\n",
       "       ['Nondemented'],\n",
       "       ['Demented'],\n",
       "       ['Demented'],\n",
       "       ['Nondemented'],\n",
       "       ['Nondemented'],\n",
       "       ['Demented'],\n",
       "       ['Demented'],\n",
       "       ['Demented'],\n",
       "       ['Demented'],\n",
       "       ['Nondemented'],\n",
       "       ['Nondemented'],\n",
       "       ['Nondemented'],\n",
       "       ['Demented'],\n",
       "       ['Demented'],\n",
       "       ['Demented'],\n",
       "       ['Demented'],\n",
       "       ['Demented'],\n",
       "       ['Demented'],\n",
       "       ['Nondemented'],\n",
       "       ['Nondemented'],\n",
       "       ['Nondemented'],\n",
       "       ['Nondemented'],\n",
       "       ['Nondemented'],\n",
       "       ['Demented'],\n",
       "       ['Demented'],\n",
       "       ['Nondemented'],\n",
       "       ['Nondemented'],\n",
       "       ['Nondemented'],\n",
       "       ['Demented'],\n",
       "       ['Demented'],\n",
       "       ['Demented'],\n",
       "       ['Converted'],\n",
       "       ['Converted'],\n",
       "       ['Converted'],\n",
       "       ['Nondemented'],\n",
       "       ['Nondemented'],\n",
       "       ['Nondemented'],\n",
       "       ['Nondemented'],\n",
       "       ['Nondemented'],\n",
       "       ['Demented'],\n",
       "       ['Demented'],\n",
       "       ['Demented'],\n",
       "       ['Demented'],\n",
       "       ['Demented'],\n",
       "       ['Demented'],\n",
       "       ['Demented'],\n",
       "       ['Nondemented'],\n",
       "       ['Nondemented'],\n",
       "       ['Nondemented'],\n",
       "       ['Nondemented'],\n",
       "       ['Demented'],\n",
       "       ['Demented'],\n",
       "       ['Demented'],\n",
       "       ['Demented'],\n",
       "       ['Demented'],\n",
       "       ['Nondemented'],\n",
       "       ['Nondemented'],\n",
       "       ['Nondemented']], dtype=object)"
      ]
     },
     "execution_count": 23,
     "metadata": {},
     "output_type": "execute_result"
    }
   ],
   "source": [
    "teshis"
   ]
  },
  {
   "cell_type": "code",
   "execution_count": 24,
   "id": "ea0bbd98",
   "metadata": {},
   "outputs": [],
   "source": [
    "le = preprocessing.LabelEncoder()"
   ]
  },
  {
   "cell_type": "code",
   "execution_count": 25,
   "id": "0c8c28cc",
   "metadata": {},
   "outputs": [
    {
     "name": "stderr",
     "output_type": "stream",
     "text": [
      "/Users/yarenuyaroglu/anaconda3/lib/python3.11/site-packages/sklearn/preprocessing/_label.py:114: DataConversionWarning: A column-vector y was passed when a 1d array was expected. Please change the shape of y to (n_samples, ), for example using ravel().\n",
      "  y = column_or_1d(y, warn=True)\n"
     ]
    }
   ],
   "source": [
    "teshis = le.fit_transform(teshis)"
   ]
  },
  {
   "cell_type": "code",
   "execution_count": 26,
   "id": "0b393809",
   "metadata": {},
   "outputs": [
    {
     "data": {
      "text/plain": [
       "array([2, 2, 1, 1, 1, 2, 2, 2, 2, 2, 1, 1, 1, 2, 2, 1, 1, 1, 1, 2, 2, 2,\n",
       "       2, 2, 2, 1, 1, 1, 1, 2, 2, 2, 2, 0, 0, 0, 0, 0, 0, 1, 1, 2, 2, 1,\n",
       "       1, 1, 1, 2, 2, 2, 2, 1, 1, 2, 2, 2, 2, 0, 0, 0, 1, 1, 2, 2, 2, 2,\n",
       "       2, 2, 2, 2, 2, 2, 1, 1, 1, 1, 1, 1, 1, 1, 1, 0, 0, 0, 2, 2, 1, 1,\n",
       "       1, 1, 1, 2, 2, 1, 1, 2, 2, 1, 1, 1, 1, 1, 2, 2, 2, 1, 1, 2, 2, 2,\n",
       "       2, 2, 2, 2, 0, 0, 2, 2, 2, 2, 2, 2, 2, 1, 1, 1, 1, 1, 2, 2, 2, 2,\n",
       "       2, 2, 1, 1, 1, 1, 1, 1, 1, 2, 2, 2, 2, 2, 2, 2, 2, 2, 2, 2, 2, 2,\n",
       "       1, 1, 2, 2, 2, 2, 2, 1, 1, 2, 2, 2, 2, 2, 2, 2, 2, 1, 1, 1, 1, 1,\n",
       "       1, 1, 1, 2, 2, 2, 2, 1, 1, 1, 1, 1, 1, 2, 2, 2, 2, 2, 0, 0, 2, 2,\n",
       "       2, 2, 2, 2, 2, 2, 2, 1, 1, 1, 1, 2, 2, 2, 2, 2, 2, 1, 1, 1, 0, 0,\n",
       "       0, 1, 1, 2, 2, 1, 1, 1, 1, 2, 2, 1, 1, 1, 1, 1, 1, 1, 1, 1, 1, 2,\n",
       "       2, 2, 2, 0, 0, 2, 2, 2, 1, 1, 2, 2, 2, 2, 1, 1, 2, 2, 2, 0, 0, 0,\n",
       "       0, 0, 2, 2, 2, 2, 2, 0, 0, 0, 0, 1, 1, 2, 2, 1, 1, 2, 2, 1, 1, 1,\n",
       "       1, 1, 2, 2, 2, 2, 2, 2, 2, 0, 0, 0, 0, 1, 1, 2, 2, 2, 2, 2, 2, 1,\n",
       "       1, 2, 2, 2, 2, 2, 2, 2, 1, 1, 2, 2, 1, 1, 1, 1, 2, 2, 2, 1, 1, 1,\n",
       "       1, 1, 1, 2, 2, 2, 2, 2, 1, 1, 2, 2, 2, 1, 1, 1, 0, 0, 0, 2, 2, 2,\n",
       "       2, 2, 1, 1, 1, 1, 1, 1, 1, 2, 2, 2, 2, 1, 1, 1, 1, 1, 2, 2, 2])"
      ]
     },
     "execution_count": 26,
     "metadata": {},
     "output_type": "execute_result"
    }
   ],
   "source": [
    "teshis"
   ]
  },
  {
   "cell_type": "code",
   "execution_count": 27,
   "id": "04db8d67",
   "metadata": {},
   "outputs": [],
   "source": [
    "dataFrame[\"Group\"] = teshis"
   ]
  },
  {
   "cell_type": "code",
   "execution_count": 28,
   "id": "6a4b948a",
   "metadata": {},
   "outputs": [],
   "source": [
    "nondemented= dataFrame[dataFrame.Group == 2]\n",
    "converted = dataFrame[dataFrame.Group == 0]\n",
    "demented = dataFrame[dataFrame.Group == 1]"
   ]
  },
  {
   "cell_type": "code",
   "execution_count": 29,
   "id": "2df5aab0",
   "metadata": {},
   "outputs": [],
   "source": [
    "dataFrame['M/F'] = dataFrame['M/F'].replace(['F', 'M'], [0, 1])"
   ]
  },
  {
   "cell_type": "code",
   "execution_count": 30,
   "id": "47086e4b",
   "metadata": {},
   "outputs": [
    {
     "data": {
      "text/html": [
       "<div>\n",
       "<style scoped>\n",
       "    .dataframe tbody tr th:only-of-type {\n",
       "        vertical-align: middle;\n",
       "    }\n",
       "\n",
       "    .dataframe tbody tr th {\n",
       "        vertical-align: top;\n",
       "    }\n",
       "\n",
       "    .dataframe thead th {\n",
       "        text-align: right;\n",
       "    }\n",
       "</style>\n",
       "<table border=\"1\" class=\"dataframe\">\n",
       "  <thead>\n",
       "    <tr style=\"text-align: right;\">\n",
       "      <th></th>\n",
       "      <th>Group</th>\n",
       "      <th>M/F</th>\n",
       "      <th>Age</th>\n",
       "      <th>EDUC</th>\n",
       "      <th>SES</th>\n",
       "      <th>MMSE</th>\n",
       "      <th>CDR</th>\n",
       "      <th>eTIV</th>\n",
       "      <th>nWBV</th>\n",
       "      <th>ASF</th>\n",
       "    </tr>\n",
       "  </thead>\n",
       "  <tbody>\n",
       "    <tr>\n",
       "      <th>0</th>\n",
       "      <td>2</td>\n",
       "      <td>1</td>\n",
       "      <td>87</td>\n",
       "      <td>14</td>\n",
       "      <td>2.000000</td>\n",
       "      <td>27.0</td>\n",
       "      <td>0.0</td>\n",
       "      <td>1987</td>\n",
       "      <td>0.696</td>\n",
       "      <td>0.883</td>\n",
       "    </tr>\n",
       "    <tr>\n",
       "      <th>1</th>\n",
       "      <td>2</td>\n",
       "      <td>1</td>\n",
       "      <td>88</td>\n",
       "      <td>14</td>\n",
       "      <td>2.000000</td>\n",
       "      <td>30.0</td>\n",
       "      <td>0.0</td>\n",
       "      <td>2004</td>\n",
       "      <td>0.681</td>\n",
       "      <td>0.876</td>\n",
       "    </tr>\n",
       "    <tr>\n",
       "      <th>2</th>\n",
       "      <td>1</td>\n",
       "      <td>1</td>\n",
       "      <td>75</td>\n",
       "      <td>12</td>\n",
       "      <td>2.460452</td>\n",
       "      <td>23.0</td>\n",
       "      <td>0.5</td>\n",
       "      <td>1678</td>\n",
       "      <td>0.736</td>\n",
       "      <td>1.046</td>\n",
       "    </tr>\n",
       "    <tr>\n",
       "      <th>3</th>\n",
       "      <td>1</td>\n",
       "      <td>1</td>\n",
       "      <td>76</td>\n",
       "      <td>12</td>\n",
       "      <td>2.460452</td>\n",
       "      <td>28.0</td>\n",
       "      <td>0.5</td>\n",
       "      <td>1738</td>\n",
       "      <td>0.713</td>\n",
       "      <td>1.010</td>\n",
       "    </tr>\n",
       "    <tr>\n",
       "      <th>4</th>\n",
       "      <td>1</td>\n",
       "      <td>1</td>\n",
       "      <td>80</td>\n",
       "      <td>12</td>\n",
       "      <td>2.460452</td>\n",
       "      <td>22.0</td>\n",
       "      <td>0.5</td>\n",
       "      <td>1698</td>\n",
       "      <td>0.701</td>\n",
       "      <td>1.034</td>\n",
       "    </tr>\n",
       "    <tr>\n",
       "      <th>...</th>\n",
       "      <td>...</td>\n",
       "      <td>...</td>\n",
       "      <td>...</td>\n",
       "      <td>...</td>\n",
       "      <td>...</td>\n",
       "      <td>...</td>\n",
       "      <td>...</td>\n",
       "      <td>...</td>\n",
       "      <td>...</td>\n",
       "      <td>...</td>\n",
       "    </tr>\n",
       "    <tr>\n",
       "      <th>368</th>\n",
       "      <td>1</td>\n",
       "      <td>1</td>\n",
       "      <td>82</td>\n",
       "      <td>16</td>\n",
       "      <td>1.000000</td>\n",
       "      <td>28.0</td>\n",
       "      <td>0.5</td>\n",
       "      <td>1693</td>\n",
       "      <td>0.694</td>\n",
       "      <td>1.037</td>\n",
       "    </tr>\n",
       "    <tr>\n",
       "      <th>369</th>\n",
       "      <td>1</td>\n",
       "      <td>1</td>\n",
       "      <td>86</td>\n",
       "      <td>16</td>\n",
       "      <td>1.000000</td>\n",
       "      <td>26.0</td>\n",
       "      <td>0.5</td>\n",
       "      <td>1688</td>\n",
       "      <td>0.675</td>\n",
       "      <td>1.040</td>\n",
       "    </tr>\n",
       "    <tr>\n",
       "      <th>370</th>\n",
       "      <td>2</td>\n",
       "      <td>0</td>\n",
       "      <td>61</td>\n",
       "      <td>13</td>\n",
       "      <td>2.000000</td>\n",
       "      <td>30.0</td>\n",
       "      <td>0.0</td>\n",
       "      <td>1319</td>\n",
       "      <td>0.801</td>\n",
       "      <td>1.331</td>\n",
       "    </tr>\n",
       "    <tr>\n",
       "      <th>371</th>\n",
       "      <td>2</td>\n",
       "      <td>0</td>\n",
       "      <td>63</td>\n",
       "      <td>13</td>\n",
       "      <td>2.000000</td>\n",
       "      <td>30.0</td>\n",
       "      <td>0.0</td>\n",
       "      <td>1327</td>\n",
       "      <td>0.796</td>\n",
       "      <td>1.323</td>\n",
       "    </tr>\n",
       "    <tr>\n",
       "      <th>372</th>\n",
       "      <td>2</td>\n",
       "      <td>0</td>\n",
       "      <td>65</td>\n",
       "      <td>13</td>\n",
       "      <td>2.000000</td>\n",
       "      <td>30.0</td>\n",
       "      <td>0.0</td>\n",
       "      <td>1333</td>\n",
       "      <td>0.801</td>\n",
       "      <td>1.317</td>\n",
       "    </tr>\n",
       "  </tbody>\n",
       "</table>\n",
       "<p>373 rows × 10 columns</p>\n",
       "</div>"
      ],
      "text/plain": [
       "     Group  M/F  Age  EDUC       SES  MMSE  CDR  eTIV   nWBV    ASF\n",
       "0        2    1   87    14  2.000000  27.0  0.0  1987  0.696  0.883\n",
       "1        2    1   88    14  2.000000  30.0  0.0  2004  0.681  0.876\n",
       "2        1    1   75    12  2.460452  23.0  0.5  1678  0.736  1.046\n",
       "3        1    1   76    12  2.460452  28.0  0.5  1738  0.713  1.010\n",
       "4        1    1   80    12  2.460452  22.0  0.5  1698  0.701  1.034\n",
       "..     ...  ...  ...   ...       ...   ...  ...   ...    ...    ...\n",
       "368      1    1   82    16  1.000000  28.0  0.5  1693  0.694  1.037\n",
       "369      1    1   86    16  1.000000  26.0  0.5  1688  0.675  1.040\n",
       "370      2    0   61    13  2.000000  30.0  0.0  1319  0.801  1.331\n",
       "371      2    0   63    13  2.000000  30.0  0.0  1327  0.796  1.323\n",
       "372      2    0   65    13  2.000000  30.0  0.0  1333  0.801  1.317\n",
       "\n",
       "[373 rows x 10 columns]"
      ]
     },
     "execution_count": 30,
     "metadata": {},
     "output_type": "execute_result"
    }
   ],
   "source": [
    "dataFrame"
   ]
  },
  {
   "cell_type": "code",
   "execution_count": 54,
   "id": "eb1c2494",
   "metadata": {},
   "outputs": [
    {
     "data": {
      "image/png": "[encoded data removed]",
      "text/plain": [
       "<Figure size 640x480 with 1 Axes>"
      ]
     },
     "metadata": {},
     "output_type": "display_data"
    }
   ],
   "source": [
    "sbn.countplot(data=dataFrame, x='Group')\n",
    "plt.title(\"Distribution of Classes\")\n",
    "plt.xlabel(\"Group\")\n",
    "plt.ylabel(\"Count\")\n",
    "plt.show()"
   ]
  },
  {
   "cell_type": "code",
   "execution_count": 55,
   "id": "4015e42a",
   "metadata": {},
   "outputs": [
    {
     "data": {
      "text/plain": [
       "Group\n",
       "2    190\n",
       "1    146\n",
       "0     37\n",
       "Name: count, dtype: int64"
      ]
     },
     "execution_count": 55,
     "metadata": {},
     "output_type": "execute_result"
    }
   ],
   "source": [
    "dataFrame[\"Group\"].value_counts() #hangi grupta kaç veri var"
   ]
  },
  {
   "cell_type": "code",
   "execution_count": 56,
   "id": "3716d60a",
   "metadata": {},
   "outputs": [
    {
     "data": {
      "text/plain": [
       "Index(['Group', 'M/F', 'Age', 'EDUC', 'SES', 'MMSE', 'CDR', 'eTIV', 'nWBV',\n",
       "       'ASF'],\n",
       "      dtype='object')"
      ]
     },
     "execution_count": 56,
     "metadata": {},
     "output_type": "execute_result"
    }
   ],
   "source": [
    "dataFrame.columns"
   ]
  },
  {
   "cell_type": "code",
   "execution_count": 57,
   "id": "5c4390bf",
   "metadata": {},
   "outputs": [],
   "source": [
    "p = dataFrame.iloc[:,1:10].values"
   ]
  },
  {
   "cell_type": "code",
   "execution_count": 68,
   "id": "e97fb5d2",
   "metadata": {},
   "outputs": [],
   "source": [
    "x = dataFrame[['M/F', 'Age', 'EDUC', 'SES', 'MMSE', 'CDR', 'eTIV', 'nWBV','ASF']].values"
   ]
  },
  {
   "cell_type": "code",
   "execution_count": 69,
   "id": "7bdb1c0f",
   "metadata": {},
   "outputs": [],
   "source": [
    "y= dataFrame[\"Group\"]"
   ]
  },
  {
   "cell_type": "code",
   "execution_count": 70,
   "id": "4ed4ed04",
   "metadata": {},
   "outputs": [],
   "source": [
    "from sklearn.preprocessing import StandardScaler"
   ]
  },
  {
   "cell_type": "code",
   "execution_count": 71,
   "id": "7118dfac",
   "metadata": {},
   "outputs": [],
   "source": [
    "sc =preprocessing.StandardScaler()"
   ]
  },
  {
   "cell_type": "code",
   "execution_count": 72,
   "id": "66d064d0",
   "metadata": {},
   "outputs": [],
   "source": [
    "from sklearn.model_selection import train_test_split "
   ]
  },
  {
   "cell_type": "code",
   "execution_count": 73,
   "id": "a652dad3",
   "metadata": {},
   "outputs": [],
   "source": [
    "x_train, x_test, y_train, y_test = train_test_split(x,y, test_size = 0.33, random_state= 100)"
   ]
  },
  {
   "cell_type": "code",
   "execution_count": 74,
   "id": "14594848",
   "metadata": {},
   "outputs": [],
   "source": [
    "x_train=sc.fit_transform(x_train)"
   ]
  },
  {
   "cell_type": "code",
   "execution_count": 75,
   "id": "0abbc477",
   "metadata": {},
   "outputs": [],
   "source": [
    "x_test=sc.transform(x_test)"
   ]
  },
  {
   "cell_type": "code",
   "execution_count": 76,
   "id": "f5b2f01c",
   "metadata": {},
   "outputs": [],
   "source": [
    "from sklearn.ensemble import RandomForestClassifier"
   ]
  },
  {
   "cell_type": "code",
   "execution_count": 77,
   "id": "da045df9",
   "metadata": {},
   "outputs": [],
   "source": [
    "classifier = RandomForestClassifier(random_state=0)"
   ]
  },
  {
   "cell_type": "code",
   "execution_count": 78,
   "id": "faf8783e",
   "metadata": {},
   "outputs": [
    {
     "data": {
      "text/html": [
       "<style>#sk-container-id-1 {color: black;}#sk-container-id-1 pre{padding: 0;}#sk-container-id-1 div.sk-toggleable {background-color: white;}#sk-container-id-1 label.sk-toggleable__label {cursor: pointer;display: block;width: 100%;margin-bottom: 0;padding: 0.3em;box-sizing: border-box;text-align: center;}#sk-container-id-1 label.sk-toggleable__label-arrow:before {content: \"▸\";float: left;margin-right: 0.25em;color: #696969;}#sk-container-id-1 label.sk-toggleable__label-arrow:hover:before {color: black;}#sk-container-id-1 div.sk-estimator:hover label.sk-toggleable__label-arrow:before {color: black;}#sk-container-id-1 div.sk-toggleable__content {max-height: 0;max-width: 0;overflow: hidden;text-align: left;background-color: #f0f8ff;}#sk-container-id-1 div.sk-toggleable__content pre {margin: 0.2em;color: black;border-radius: 0.25em;background-color: #f0f8ff;}#sk-container-id-1 input.sk-toggleable__control:checked~div.sk-toggleable__content {max-height: 200px;max-width: 100%;overflow: auto;}#sk-container-id-1 input.sk-toggleable__control:checked~label.sk-toggleable__label-arrow:before {content: \"▾\";}#sk-container-id-1 div.sk-estimator input.sk-toggleable__control:checked~label.sk-toggleable__label {background-color: #d4ebff;}#sk-container-id-1 div.sk-label input.sk-toggleable__control:checked~label.sk-toggleable__label {background-color: #d4ebff;}#sk-container-id-1 input.sk-hidden--visually {border: 0;clip: rect(1px 1px 1px 1px);clip: rect(1px, 1px, 1px, 1px);height: 1px;margin: -1px;overflow: hidden;padding: 0;position: absolute;width: 1px;}#sk-container-id-1 div.sk-estimator {font-family: monospace;background-color: #f0f8ff;border: 1px dotted black;border-radius: 0.25em;box-sizing: border-box;margin-bottom: 0.5em;}#sk-container-id-1 div.sk-estimator:hover {background-color: #d4ebff;}#sk-container-id-1 div.sk-parallel-item::after {content: \"\";width: 100%;border-bottom: 1px solid gray;flex-grow: 1;}#sk-container-id-1 div.sk-label:hover label.sk-toggleable__label {background-color: #d4ebff;}#sk-container-id-1 div.sk-serial::before {content: \"\";position: absolute;border-left: 1px solid gray;box-sizing: border-box;top: 0;bottom: 0;left: 50%;z-index: 0;}#sk-container-id-1 div.sk-serial {display: flex;flex-direction: column;align-items: center;background-color: white;padding-right: 0.2em;padding-left: 0.2em;position: relative;}#sk-container-id-1 div.sk-item {position: relative;z-index: 1;}#sk-container-id-1 div.sk-parallel {display: flex;align-items: stretch;justify-content: center;background-color: white;position: relative;}#sk-container-id-1 div.sk-item::before, #sk-container-id-1 div.sk-parallel-item::before {content: \"\";position: absolute;border-left: 1px solid gray;box-sizing: border-box;top: 0;bottom: 0;left: 50%;z-index: -1;}#sk-container-id-1 div.sk-parallel-item {display: flex;flex-direction: column;z-index: 1;position: relative;background-color: white;}#sk-container-id-1 div.sk-parallel-item:first-child::after {align-self: flex-end;width: 50%;}#sk-container-id-1 div.sk-parallel-item:last-child::after {align-self: flex-start;width: 50%;}#sk-container-id-1 div.sk-parallel-item:only-child::after {width: 0;}#sk-container-id-1 div.sk-dashed-wrapped {border: 1px dashed gray;margin: 0 0.4em 0.5em 0.4em;box-sizing: border-box;padding-bottom: 0.4em;background-color: white;}#sk-container-id-1 div.sk-label label {font-family: monospace;font-weight: bold;display: inline-block;line-height: 1.2em;}#sk-container-id-1 div.sk-label-container {text-align: center;}#sk-container-id-1 div.sk-container {/* jupyter's `normalize.less` sets `[hidden] { display: none; }` but bootstrap.min.css set `[hidden] { display: none !important; }` so we also need the `!important` here to be able to override the default hidden behavior on the sphinx rendered scikit-learn.org. See: https://github.com/scikit-learn/scikit-learn/issues/21755 */display: inline-block !important;position: relative;}#sk-container-id-1 div.sk-text-repr-fallback {display: none;}</style><div id=\"sk-container-id-1\" class=\"sk-top-container\"><div class=\"sk-text-repr-fallback\"><pre>RandomForestClassifier(random_state=0)</pre><b>In a Jupyter environment, please rerun this cell to show the HTML representation or trust the notebook. <br />On GitHub, the HTML representation is unable to render, please try loading this page with nbviewer.org.</b></div><div class=\"sk-container\" hidden><div class=\"sk-item\"><div class=\"sk-estimator sk-toggleable\"><input class=\"sk-toggleable__control sk-hidden--visually\" id=\"sk-estimator-id-1\" type=\"checkbox\" checked><label for=\"sk-estimator-id-1\" class=\"sk-toggleable__label sk-toggleable__label-arrow\">RandomForestClassifier</label><div class=\"sk-toggleable__content\"><pre>RandomForestClassifier(random_state=0)</pre></div></div></div></div></div>"
      ],
      "text/plain": [
       "RandomForestClassifier(random_state=0)"
      ]
     },
     "execution_count": 78,
     "metadata": {},
     "output_type": "execute_result"
    }
   ],
   "source": [
    "classifier.fit(x_train,y_train)"
   ]
  },
  {
   "cell_type": "code",
   "execution_count": 79,
   "id": "023a0ab7",
   "metadata": {},
   "outputs": [],
   "source": [
    "y_pred = classifier.predict(x_test)"
   ]
  },
  {
   "cell_type": "code",
   "execution_count": 80,
   "id": "d9ed58ad",
   "metadata": {},
   "outputs": [],
   "source": [
    "from sklearn.metrics import confusion_matrix"
   ]
  },
  {
   "cell_type": "code",
   "execution_count": 81,
   "id": "f3c648b8",
   "metadata": {},
   "outputs": [],
   "source": [
    "cm = confusion_matrix(y_test,y_pred)"
   ]
  },
  {
   "cell_type": "code",
   "execution_count": 82,
   "id": "3b9cf97c",
   "metadata": {},
   "outputs": [
    {
     "data": {
      "text/plain": [
       "array([[ 2,  4,  0],\n",
       "       [ 1, 53,  0],\n",
       "       [ 0,  0, 64]])"
      ]
     },
     "execution_count": 82,
     "metadata": {},
     "output_type": "execute_result"
    }
   ],
   "source": [
    "cm"
   ]
  },
  {
   "cell_type": "code",
   "execution_count": 85,
   "id": "43ba4a18",
   "metadata": {},
   "outputs": [],
   "source": [
    "# Yeni bir hasta tahmini için:\n",
    "from sklearn.preprocessing import MinMaxScaler"
   ]
  },
  {
   "cell_type": "code",
   "execution_count": 86,
   "id": "331ee5f2",
   "metadata": {},
   "outputs": [],
   "source": [
    "sc = MinMaxScaler()"
   ]
  },
  {
   "cell_type": "code",
   "execution_count": 88,
   "id": "e73c9680",
   "metadata": {},
   "outputs": [],
   "source": [
    "# F=0  M=1 nondemented=2 demented=1 converted=0"
   ]
  },
  {
   "cell_type": "code",
   "execution_count": 94,
   "id": "fd10ae7e",
   "metadata": {},
   "outputs": [],
   "source": [
    "new_prediction = classifier.predict(sc.transform(np.array([[1,87,14,2,27,0,1987,0.696,0.883]])))\n"
   ]
  },
  {
   "cell_type": "code",
   "execution_count": 95,
   "id": "c19e15f1",
   "metadata": {},
   "outputs": [
    {
     "data": {
      "text/plain": [
       "1"
      ]
     },
     "execution_count": 95,
     "metadata": {},
     "output_type": "execute_result"
    }
   ],
   "source": [
    "new_prediction[0]"
   ]
  },
  {
   "cell_type": "code",
   "execution_count": 97,
   "id": "05b200fa",
   "metadata": {},
   "outputs": [],
   "source": [
    "new_prediction = classifier.predict(sc.transform(np.array([[1,87,14,1,30,0,1406,0.715,1.248]])))\n"
   ]
  },
  {
   "cell_type": "code",
   "execution_count": 98,
   "id": "b0462a61",
   "metadata": {},
   "outputs": [
    {
     "data": {
      "text/plain": [
       "1"
      ]
     },
     "execution_count": 98,
     "metadata": {},
     "output_type": "execute_result"
    }
   ],
   "source": [
    "new_prediction[0]"
   ]
  },
  {
   "cell_type": "code",
   "execution_count": 99,
   "id": "dcfbaa8b",
   "metadata": {},
   "outputs": [],
   "source": [
    "new_prediction = classifier.predict(sc.transform(np.array([[1,80,12,3,29,0,1783,0.752,0.985]])))\n"
   ]
  },
  {
   "cell_type": "code",
   "execution_count": 100,
   "id": "69d469f6",
   "metadata": {},
   "outputs": [
    {
     "data": {
      "text/plain": [
       "1"
      ]
     },
     "execution_count": 100,
     "metadata": {},
     "output_type": "execute_result"
    }
   ],
   "source": [
    "new_prediction[0]"
   ]
  },
  {
   "cell_type": "code",
   "execution_count": 101,
   "id": "3ed80ef1",
   "metadata": {},
   "outputs": [],
   "source": [
    "from sklearn.metrics import accuracy_score\n",
    "from sklearn.metrics import r2_score\n",
    "from sklearn.metrics import mean_absolute_error\n",
    "from sklearn.metrics import mean_squared_error"
   ]
  },
  {
   "cell_type": "code",
   "execution_count": 102,
   "id": "3c2b1159",
   "metadata": {
    "scrolled": true
   },
   "outputs": [
    {
     "name": "stdout",
     "output_type": "stream",
     "text": [
      "Doğruluk Oranı: 0.96\n",
      "R^2 Skoru: 0.88\n",
      "Mean Absolute Error (MAE): 0.04\n",
      "Mean Squared Error (MSE): 0.04\n",
      "Root Mean Squared Error (RMSE): 0.20\n"
     ]
    }
   ],
   "source": [
    "accuracy = accuracy_score(y_test, y_pred)\n",
    "print(f\"Doğruluk Oranı: {accuracy:.2f}\")\n",
    "\n",
    "r2 = r2_score(y_test, y_pred)\n",
    "print(f\"R^2 Skoru: {r2:.2f}\")\n",
    "\n",
    "mae = mean_absolute_error(y_test, y_pred)\n",
    "print(f\"Mean Absolute Error (MAE): {mae:.2f}\")\n",
    "\n",
    "mse = mean_squared_error(y_test, y_pred)\n",
    "print(f\"Mean Squared Error (MSE): {mse:.2f}\")\n",
    "\n",
    "rmse = np.sqrt(mse)\n",
    "print(f\"Root Mean Squared Error (RMSE): {rmse:.2f}\")"
   ]
  },
  {
   "cell_type": "code",
   "execution_count": null,
   "id": "667fd2dc",
   "metadata": {},
   "outputs": [],
   "source": []
  }
 ],
 "metadata": {
  "kernelspec": {
   "display_name": "Python 3 (ipykernel)",
   "language": "python",
   "name": "python3"
  },
  "language_info": {
   "codemirror_mode": {
    "name": "ipython",
    "version": 3
   },
   "file_extension": ".py",
   "mimetype": "text/x-python",
   "name": "python",
   "nbconvert_exporter": "python",
   "pygments_lexer": "ipython3",
   "version": "3.11.5"
  }
 },
 "nbformat": 4,
 "nbformat_minor": 5
}
